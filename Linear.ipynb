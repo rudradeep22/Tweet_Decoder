{
  "nbformat": 4,
  "nbformat_minor": 0,
  "metadata": {
    "colab": {
      "provenance": [],
      "include_colab_link": true
    },
    "kernelspec": {
      "name": "python3",
      "display_name": "Python 3"
    },
    "language_info": {
      "name": "python"
    }
  },
  "cells": [
    {
      "cell_type": "markdown",
      "metadata": {
        "id": "view-in-github",
        "colab_type": "text"
      },
      "source": [
        "<a href=\"https://colab.research.google.com/github/rudradeep22/Tweet_Decoder/blob/main/Linear.ipynb\" target=\"_parent\"><img src=\"https://colab.research.google.com/assets/colab-badge.svg\" alt=\"Open In Colab\"/></a>"
      ]
    },
    {
      "cell_type": "markdown",
      "source": [
        "**Click on File and save a copy in Drive.**"
      ],
      "metadata": {
        "id": "OFlA9PqYHnLD"
      }
    },
    {
      "cell_type": "markdown",
      "source": [
        "### **Aim**  \n",
        "The goal of this assignment is to make predictions using linear regression. We will be implementing the linear regression model from scratch. We have been provided with a hypothetical dataset of a company that wants to predict the price of a car. Our task is to build a linear regression model that can accurately predict the price of a car based on the given features in dataset.                                  \n",
        "**NOTE:** Data is hypothetical price of the car may be negative."
      ],
      "metadata": {
        "id": "RB2d1J1f1CF7"
      }
    },
    {
      "cell_type": "markdown",
      "source": [
        "Import Libraries."
      ],
      "metadata": {
        "id": "n66dPE0OpsVp"
      }
    },
    {
      "cell_type": "code",
      "source": [
        "#importing libraries\n",
        "import pandas as pd\n",
        "import numpy as np"
      ],
      "metadata": {
        "id": "CaY_sda_HdnP"
      },
      "execution_count": null,
      "outputs": []
    },
    {
      "cell_type": "markdown",
      "source": [
        "### Generating the dataset  \n",
        "Run the cell below to load the dataset."
      ],
      "metadata": {
        "id": "a_S80lf6H4Xv"
      }
    },
    {
      "cell_type": "code",
      "source": [
        "from google.colab import drive\n",
        "drive.mount('/content/drive')"
      ],
      "metadata": {
        "id": "UaUQy8ImHc9z",
        "colab": {
          "base_uri": "https://localhost:8080/"
        },
        "outputId": "fc360528-452e-4851-c10a-5750c5eb435d"
      },
      "execution_count": null,
      "outputs": [
        {
          "output_type": "stream",
          "name": "stdout",
          "text": [
            "Mounted at /content/drive\n"
          ]
        }
      ]
    },
    {
      "cell_type": "code",
      "source": [
        "!gdown --id 1kjUHAjfl2FGx5tZ219EzyOJiAwTsqjbO"
      ],
      "metadata": {
        "id": "pbHQvbNqq6OQ",
        "colab": {
          "base_uri": "https://localhost:8080/"
        },
        "outputId": "b7b152c1-00df-470f-dba4-2cfe3a3655bb"
      },
      "execution_count": null,
      "outputs": [
        {
          "output_type": "stream",
          "name": "stdout",
          "text": [
            "/usr/local/lib/python3.9/dist-packages/gdown/cli.py:121: FutureWarning: Option `--id` was deprecated in version 4.3.1 and will be removed in 5.0. You don't need to pass it anymore to use a file ID.\n",
            "  warnings.warn(\n",
            "Downloading...\n",
            "From: https://drive.google.com/uc?id=1kjUHAjfl2FGx5tZ219EzyOJiAwTsqjbO\n",
            "To: /content/car_dataa.csv\n",
            "100% 34.2k/34.2k [00:00<00:00, 36.5MB/s]\n"
          ]
        }
      ]
    },
    {
      "cell_type": "code",
      "source": [
        "df=pd.read_csv('/content/car_dataa.csv')\n",
        "df"
      ],
      "metadata": {
        "id": "RRdj03aPHfrj",
        "colab": {
          "base_uri": "https://localhost:8080/",
          "height": 423
        },
        "outputId": "79c8640e-70f9-4482-a6c6-e66386b05917"
      },
      "execution_count": null,
      "outputs": [
        {
          "output_type": "execute_result",
          "data": {
            "text/plain": [
              "    Car_Name      Year  Selling_Price  Present_Price  Kms_Driven Fuel_Type  \\\n",
              "0       ritz -0.860155     -94.188683      -0.410123    0.612850    Petrol   \n",
              "1        sx4 -0.097043      15.276170       0.647960   -1.874549    Diesel   \n",
              "2       ciaz -0.402870      69.755387       0.457906    2.125322    Petrol   \n",
              "3    wagon r -0.480849     -61.144535      -0.079979    0.038635    Petrol   \n",
              "4      swift -2.223520     -40.620491       1.898574   -0.468699    Diesel   \n",
              "..       ...       ...            ...            ...         ...       ...   \n",
              "296     city  1.007247      20.693798      -1.083003   -0.229690    Diesel   \n",
              "297     brio  1.721243      87.938514      -0.859128    0.378223    Petrol   \n",
              "298     city -0.171465    -154.588890      -0.944369   -0.495819    Petrol   \n",
              "299     city -0.605274     171.969714       2.360360   -0.057051    Diesel   \n",
              "300     brio  1.812287      35.857232      -1.312873    0.155835    Petrol   \n",
              "\n",
              "    Seller_Type Transmission  Owner  \n",
              "0        Dealer       Manual      0  \n",
              "1        Dealer       Manual      0  \n",
              "2        Dealer       Manual      0  \n",
              "3        Dealer       Manual      0  \n",
              "4        Dealer       Manual      0  \n",
              "..          ...          ...    ...  \n",
              "296      Dealer       Manual      0  \n",
              "297      Dealer       Manual      0  \n",
              "298      Dealer       Manual      0  \n",
              "299      Dealer       Manual      0  \n",
              "300      Dealer       Manual      0  \n",
              "\n",
              "[301 rows x 9 columns]"
            ],
            "text/html": [
              "\n",
              "  <div id=\"df-4ccb2d52-0ebc-4b5c-8ce6-fcca09bfdeb0\">\n",
              "    <div class=\"colab-df-container\">\n",
              "      <div>\n",
              "<style scoped>\n",
              "    .dataframe tbody tr th:only-of-type {\n",
              "        vertical-align: middle;\n",
              "    }\n",
              "\n",
              "    .dataframe tbody tr th {\n",
              "        vertical-align: top;\n",
              "    }\n",
              "\n",
              "    .dataframe thead th {\n",
              "        text-align: right;\n",
              "    }\n",
              "</style>\n",
              "<table border=\"1\" class=\"dataframe\">\n",
              "  <thead>\n",
              "    <tr style=\"text-align: right;\">\n",
              "      <th></th>\n",
              "      <th>Car_Name</th>\n",
              "      <th>Year</th>\n",
              "      <th>Selling_Price</th>\n",
              "      <th>Present_Price</th>\n",
              "      <th>Kms_Driven</th>\n",
              "      <th>Fuel_Type</th>\n",
              "      <th>Seller_Type</th>\n",
              "      <th>Transmission</th>\n",
              "      <th>Owner</th>\n",
              "    </tr>\n",
              "  </thead>\n",
              "  <tbody>\n",
              "    <tr>\n",
              "      <th>0</th>\n",
              "      <td>ritz</td>\n",
              "      <td>-0.860155</td>\n",
              "      <td>-94.188683</td>\n",
              "      <td>-0.410123</td>\n",
              "      <td>0.612850</td>\n",
              "      <td>Petrol</td>\n",
              "      <td>Dealer</td>\n",
              "      <td>Manual</td>\n",
              "      <td>0</td>\n",
              "    </tr>\n",
              "    <tr>\n",
              "      <th>1</th>\n",
              "      <td>sx4</td>\n",
              "      <td>-0.097043</td>\n",
              "      <td>15.276170</td>\n",
              "      <td>0.647960</td>\n",
              "      <td>-1.874549</td>\n",
              "      <td>Diesel</td>\n",
              "      <td>Dealer</td>\n",
              "      <td>Manual</td>\n",
              "      <td>0</td>\n",
              "    </tr>\n",
              "    <tr>\n",
              "      <th>2</th>\n",
              "      <td>ciaz</td>\n",
              "      <td>-0.402870</td>\n",
              "      <td>69.755387</td>\n",
              "      <td>0.457906</td>\n",
              "      <td>2.125322</td>\n",
              "      <td>Petrol</td>\n",
              "      <td>Dealer</td>\n",
              "      <td>Manual</td>\n",
              "      <td>0</td>\n",
              "    </tr>\n",
              "    <tr>\n",
              "      <th>3</th>\n",
              "      <td>wagon r</td>\n",
              "      <td>-0.480849</td>\n",
              "      <td>-61.144535</td>\n",
              "      <td>-0.079979</td>\n",
              "      <td>0.038635</td>\n",
              "      <td>Petrol</td>\n",
              "      <td>Dealer</td>\n",
              "      <td>Manual</td>\n",
              "      <td>0</td>\n",
              "    </tr>\n",
              "    <tr>\n",
              "      <th>4</th>\n",
              "      <td>swift</td>\n",
              "      <td>-2.223520</td>\n",
              "      <td>-40.620491</td>\n",
              "      <td>1.898574</td>\n",
              "      <td>-0.468699</td>\n",
              "      <td>Diesel</td>\n",
              "      <td>Dealer</td>\n",
              "      <td>Manual</td>\n",
              "      <td>0</td>\n",
              "    </tr>\n",
              "    <tr>\n",
              "      <th>...</th>\n",
              "      <td>...</td>\n",
              "      <td>...</td>\n",
              "      <td>...</td>\n",
              "      <td>...</td>\n",
              "      <td>...</td>\n",
              "      <td>...</td>\n",
              "      <td>...</td>\n",
              "      <td>...</td>\n",
              "      <td>...</td>\n",
              "    </tr>\n",
              "    <tr>\n",
              "      <th>296</th>\n",
              "      <td>city</td>\n",
              "      <td>1.007247</td>\n",
              "      <td>20.693798</td>\n",
              "      <td>-1.083003</td>\n",
              "      <td>-0.229690</td>\n",
              "      <td>Diesel</td>\n",
              "      <td>Dealer</td>\n",
              "      <td>Manual</td>\n",
              "      <td>0</td>\n",
              "    </tr>\n",
              "    <tr>\n",
              "      <th>297</th>\n",
              "      <td>brio</td>\n",
              "      <td>1.721243</td>\n",
              "      <td>87.938514</td>\n",
              "      <td>-0.859128</td>\n",
              "      <td>0.378223</td>\n",
              "      <td>Petrol</td>\n",
              "      <td>Dealer</td>\n",
              "      <td>Manual</td>\n",
              "      <td>0</td>\n",
              "    </tr>\n",
              "    <tr>\n",
              "      <th>298</th>\n",
              "      <td>city</td>\n",
              "      <td>-0.171465</td>\n",
              "      <td>-154.588890</td>\n",
              "      <td>-0.944369</td>\n",
              "      <td>-0.495819</td>\n",
              "      <td>Petrol</td>\n",
              "      <td>Dealer</td>\n",
              "      <td>Manual</td>\n",
              "      <td>0</td>\n",
              "    </tr>\n",
              "    <tr>\n",
              "      <th>299</th>\n",
              "      <td>city</td>\n",
              "      <td>-0.605274</td>\n",
              "      <td>171.969714</td>\n",
              "      <td>2.360360</td>\n",
              "      <td>-0.057051</td>\n",
              "      <td>Diesel</td>\n",
              "      <td>Dealer</td>\n",
              "      <td>Manual</td>\n",
              "      <td>0</td>\n",
              "    </tr>\n",
              "    <tr>\n",
              "      <th>300</th>\n",
              "      <td>brio</td>\n",
              "      <td>1.812287</td>\n",
              "      <td>35.857232</td>\n",
              "      <td>-1.312873</td>\n",
              "      <td>0.155835</td>\n",
              "      <td>Petrol</td>\n",
              "      <td>Dealer</td>\n",
              "      <td>Manual</td>\n",
              "      <td>0</td>\n",
              "    </tr>\n",
              "  </tbody>\n",
              "</table>\n",
              "<p>301 rows × 9 columns</p>\n",
              "</div>\n",
              "      <button class=\"colab-df-convert\" onclick=\"convertToInteractive('df-4ccb2d52-0ebc-4b5c-8ce6-fcca09bfdeb0')\"\n",
              "              title=\"Convert this dataframe to an interactive table.\"\n",
              "              style=\"display:none;\">\n",
              "        \n",
              "  <svg xmlns=\"http://www.w3.org/2000/svg\" height=\"24px\"viewBox=\"0 0 24 24\"\n",
              "       width=\"24px\">\n",
              "    <path d=\"M0 0h24v24H0V0z\" fill=\"none\"/>\n",
              "    <path d=\"M18.56 5.44l.94 2.06.94-2.06 2.06-.94-2.06-.94-.94-2.06-.94 2.06-2.06.94zm-11 1L8.5 8.5l.94-2.06 2.06-.94-2.06-.94L8.5 2.5l-.94 2.06-2.06.94zm10 10l.94 2.06.94-2.06 2.06-.94-2.06-.94-.94-2.06-.94 2.06-2.06.94z\"/><path d=\"M17.41 7.96l-1.37-1.37c-.4-.4-.92-.59-1.43-.59-.52 0-1.04.2-1.43.59L10.3 9.45l-7.72 7.72c-.78.78-.78 2.05 0 2.83L4 21.41c.39.39.9.59 1.41.59.51 0 1.02-.2 1.41-.59l7.78-7.78 2.81-2.81c.8-.78.8-2.07 0-2.86zM5.41 20L4 18.59l7.72-7.72 1.47 1.35L5.41 20z\"/>\n",
              "  </svg>\n",
              "      </button>\n",
              "      \n",
              "  <style>\n",
              "    .colab-df-container {\n",
              "      display:flex;\n",
              "      flex-wrap:wrap;\n",
              "      gap: 12px;\n",
              "    }\n",
              "\n",
              "    .colab-df-convert {\n",
              "      background-color: #E8F0FE;\n",
              "      border: none;\n",
              "      border-radius: 50%;\n",
              "      cursor: pointer;\n",
              "      display: none;\n",
              "      fill: #1967D2;\n",
              "      height: 32px;\n",
              "      padding: 0 0 0 0;\n",
              "      width: 32px;\n",
              "    }\n",
              "\n",
              "    .colab-df-convert:hover {\n",
              "      background-color: #E2EBFA;\n",
              "      box-shadow: 0px 1px 2px rgba(60, 64, 67, 0.3), 0px 1px 3px 1px rgba(60, 64, 67, 0.15);\n",
              "      fill: #174EA6;\n",
              "    }\n",
              "\n",
              "    [theme=dark] .colab-df-convert {\n",
              "      background-color: #3B4455;\n",
              "      fill: #D2E3FC;\n",
              "    }\n",
              "\n",
              "    [theme=dark] .colab-df-convert:hover {\n",
              "      background-color: #434B5C;\n",
              "      box-shadow: 0px 1px 3px 1px rgba(0, 0, 0, 0.15);\n",
              "      filter: drop-shadow(0px 1px 2px rgba(0, 0, 0, 0.3));\n",
              "      fill: #FFFFFF;\n",
              "    }\n",
              "  </style>\n",
              "\n",
              "      <script>\n",
              "        const buttonEl =\n",
              "          document.querySelector('#df-4ccb2d52-0ebc-4b5c-8ce6-fcca09bfdeb0 button.colab-df-convert');\n",
              "        buttonEl.style.display =\n",
              "          google.colab.kernel.accessAllowed ? 'block' : 'none';\n",
              "\n",
              "        async function convertToInteractive(key) {\n",
              "          const element = document.querySelector('#df-4ccb2d52-0ebc-4b5c-8ce6-fcca09bfdeb0');\n",
              "          const dataTable =\n",
              "            await google.colab.kernel.invokeFunction('convertToInteractive',\n",
              "                                                     [key], {});\n",
              "          if (!dataTable) return;\n",
              "\n",
              "          const docLinkHtml = 'Like what you see? Visit the ' +\n",
              "            '<a target=\"_blank\" href=https://colab.research.google.com/notebooks/data_table.ipynb>data table notebook</a>'\n",
              "            + ' to learn more about interactive tables.';\n",
              "          element.innerHTML = '';\n",
              "          dataTable['output_type'] = 'display_data';\n",
              "          await google.colab.output.renderOutput(dataTable, element);\n",
              "          const docLink = document.createElement('div');\n",
              "          docLink.innerHTML = docLinkHtml;\n",
              "          element.appendChild(docLink);\n",
              "        }\n",
              "      </script>\n",
              "    </div>\n",
              "  </div>\n",
              "  "
            ]
          },
          "metadata": {},
          "execution_count": 5
        }
      ]
    },
    {
      "cell_type": "markdown",
      "source": [
        "Delete Unwanted Columns like Car_Name, Fuel_Type, Seller_Type, Owner, Transmission. Use del function:- del df['Car_Name'] deletes that column."
      ],
      "metadata": {
        "id": "lCcyBNlVpyBZ"
      }
    },
    {
      "cell_type": "code",
      "source": [
        "cols_to_drop = ['Car_Name', 'Fuel_Type', 'Seller_Type', 'Owner', 'Transmission']\n",
        "df.drop(cols_to_drop, axis=1, inplace =True)\n",
        "df"
      ],
      "metadata": {
        "id": "JBbEglt6I-3i",
        "colab": {
          "base_uri": "https://localhost:8080/",
          "height": 423
        },
        "outputId": "b18d59b3-6b51-4258-f40e-1f29fea4858b"
      },
      "execution_count": null,
      "outputs": [
        {
          "output_type": "execute_result",
          "data": {
            "text/plain": [
              "         Year  Selling_Price  Present_Price  Kms_Driven\n",
              "0   -0.860155     -94.188683      -0.410123    0.612850\n",
              "1   -0.097043      15.276170       0.647960   -1.874549\n",
              "2   -0.402870      69.755387       0.457906    2.125322\n",
              "3   -0.480849     -61.144535      -0.079979    0.038635\n",
              "4   -2.223520     -40.620491       1.898574   -0.468699\n",
              "..        ...            ...            ...         ...\n",
              "296  1.007247      20.693798      -1.083003   -0.229690\n",
              "297  1.721243      87.938514      -0.859128    0.378223\n",
              "298 -0.171465    -154.588890      -0.944369   -0.495819\n",
              "299 -0.605274     171.969714       2.360360   -0.057051\n",
              "300  1.812287      35.857232      -1.312873    0.155835\n",
              "\n",
              "[301 rows x 4 columns]"
            ],
            "text/html": [
              "\n",
              "  <div id=\"df-ec93e305-9b07-4d56-ac15-35296fae1808\">\n",
              "    <div class=\"colab-df-container\">\n",
              "      <div>\n",
              "<style scoped>\n",
              "    .dataframe tbody tr th:only-of-type {\n",
              "        vertical-align: middle;\n",
              "    }\n",
              "\n",
              "    .dataframe tbody tr th {\n",
              "        vertical-align: top;\n",
              "    }\n",
              "\n",
              "    .dataframe thead th {\n",
              "        text-align: right;\n",
              "    }\n",
              "</style>\n",
              "<table border=\"1\" class=\"dataframe\">\n",
              "  <thead>\n",
              "    <tr style=\"text-align: right;\">\n",
              "      <th></th>\n",
              "      <th>Year</th>\n",
              "      <th>Selling_Price</th>\n",
              "      <th>Present_Price</th>\n",
              "      <th>Kms_Driven</th>\n",
              "    </tr>\n",
              "  </thead>\n",
              "  <tbody>\n",
              "    <tr>\n",
              "      <th>0</th>\n",
              "      <td>-0.860155</td>\n",
              "      <td>-94.188683</td>\n",
              "      <td>-0.410123</td>\n",
              "      <td>0.612850</td>\n",
              "    </tr>\n",
              "    <tr>\n",
              "      <th>1</th>\n",
              "      <td>-0.097043</td>\n",
              "      <td>15.276170</td>\n",
              "      <td>0.647960</td>\n",
              "      <td>-1.874549</td>\n",
              "    </tr>\n",
              "    <tr>\n",
              "      <th>2</th>\n",
              "      <td>-0.402870</td>\n",
              "      <td>69.755387</td>\n",
              "      <td>0.457906</td>\n",
              "      <td>2.125322</td>\n",
              "    </tr>\n",
              "    <tr>\n",
              "      <th>3</th>\n",
              "      <td>-0.480849</td>\n",
              "      <td>-61.144535</td>\n",
              "      <td>-0.079979</td>\n",
              "      <td>0.038635</td>\n",
              "    </tr>\n",
              "    <tr>\n",
              "      <th>4</th>\n",
              "      <td>-2.223520</td>\n",
              "      <td>-40.620491</td>\n",
              "      <td>1.898574</td>\n",
              "      <td>-0.468699</td>\n",
              "    </tr>\n",
              "    <tr>\n",
              "      <th>...</th>\n",
              "      <td>...</td>\n",
              "      <td>...</td>\n",
              "      <td>...</td>\n",
              "      <td>...</td>\n",
              "    </tr>\n",
              "    <tr>\n",
              "      <th>296</th>\n",
              "      <td>1.007247</td>\n",
              "      <td>20.693798</td>\n",
              "      <td>-1.083003</td>\n",
              "      <td>-0.229690</td>\n",
              "    </tr>\n",
              "    <tr>\n",
              "      <th>297</th>\n",
              "      <td>1.721243</td>\n",
              "      <td>87.938514</td>\n",
              "      <td>-0.859128</td>\n",
              "      <td>0.378223</td>\n",
              "    </tr>\n",
              "    <tr>\n",
              "      <th>298</th>\n",
              "      <td>-0.171465</td>\n",
              "      <td>-154.588890</td>\n",
              "      <td>-0.944369</td>\n",
              "      <td>-0.495819</td>\n",
              "    </tr>\n",
              "    <tr>\n",
              "      <th>299</th>\n",
              "      <td>-0.605274</td>\n",
              "      <td>171.969714</td>\n",
              "      <td>2.360360</td>\n",
              "      <td>-0.057051</td>\n",
              "    </tr>\n",
              "    <tr>\n",
              "      <th>300</th>\n",
              "      <td>1.812287</td>\n",
              "      <td>35.857232</td>\n",
              "      <td>-1.312873</td>\n",
              "      <td>0.155835</td>\n",
              "    </tr>\n",
              "  </tbody>\n",
              "</table>\n",
              "<p>301 rows × 4 columns</p>\n",
              "</div>\n",
              "      <button class=\"colab-df-convert\" onclick=\"convertToInteractive('df-ec93e305-9b07-4d56-ac15-35296fae1808')\"\n",
              "              title=\"Convert this dataframe to an interactive table.\"\n",
              "              style=\"display:none;\">\n",
              "        \n",
              "  <svg xmlns=\"http://www.w3.org/2000/svg\" height=\"24px\"viewBox=\"0 0 24 24\"\n",
              "       width=\"24px\">\n",
              "    <path d=\"M0 0h24v24H0V0z\" fill=\"none\"/>\n",
              "    <path d=\"M18.56 5.44l.94 2.06.94-2.06 2.06-.94-2.06-.94-.94-2.06-.94 2.06-2.06.94zm-11 1L8.5 8.5l.94-2.06 2.06-.94-2.06-.94L8.5 2.5l-.94 2.06-2.06.94zm10 10l.94 2.06.94-2.06 2.06-.94-2.06-.94-.94-2.06-.94 2.06-2.06.94z\"/><path d=\"M17.41 7.96l-1.37-1.37c-.4-.4-.92-.59-1.43-.59-.52 0-1.04.2-1.43.59L10.3 9.45l-7.72 7.72c-.78.78-.78 2.05 0 2.83L4 21.41c.39.39.9.59 1.41.59.51 0 1.02-.2 1.41-.59l7.78-7.78 2.81-2.81c.8-.78.8-2.07 0-2.86zM5.41 20L4 18.59l7.72-7.72 1.47 1.35L5.41 20z\"/>\n",
              "  </svg>\n",
              "      </button>\n",
              "      \n",
              "  <style>\n",
              "    .colab-df-container {\n",
              "      display:flex;\n",
              "      flex-wrap:wrap;\n",
              "      gap: 12px;\n",
              "    }\n",
              "\n",
              "    .colab-df-convert {\n",
              "      background-color: #E8F0FE;\n",
              "      border: none;\n",
              "      border-radius: 50%;\n",
              "      cursor: pointer;\n",
              "      display: none;\n",
              "      fill: #1967D2;\n",
              "      height: 32px;\n",
              "      padding: 0 0 0 0;\n",
              "      width: 32px;\n",
              "    }\n",
              "\n",
              "    .colab-df-convert:hover {\n",
              "      background-color: #E2EBFA;\n",
              "      box-shadow: 0px 1px 2px rgba(60, 64, 67, 0.3), 0px 1px 3px 1px rgba(60, 64, 67, 0.15);\n",
              "      fill: #174EA6;\n",
              "    }\n",
              "\n",
              "    [theme=dark] .colab-df-convert {\n",
              "      background-color: #3B4455;\n",
              "      fill: #D2E3FC;\n",
              "    }\n",
              "\n",
              "    [theme=dark] .colab-df-convert:hover {\n",
              "      background-color: #434B5C;\n",
              "      box-shadow: 0px 1px 3px 1px rgba(0, 0, 0, 0.15);\n",
              "      filter: drop-shadow(0px 1px 2px rgba(0, 0, 0, 0.3));\n",
              "      fill: #FFFFFF;\n",
              "    }\n",
              "  </style>\n",
              "\n",
              "      <script>\n",
              "        const buttonEl =\n",
              "          document.querySelector('#df-ec93e305-9b07-4d56-ac15-35296fae1808 button.colab-df-convert');\n",
              "        buttonEl.style.display =\n",
              "          google.colab.kernel.accessAllowed ? 'block' : 'none';\n",
              "\n",
              "        async function convertToInteractive(key) {\n",
              "          const element = document.querySelector('#df-ec93e305-9b07-4d56-ac15-35296fae1808');\n",
              "          const dataTable =\n",
              "            await google.colab.kernel.invokeFunction('convertToInteractive',\n",
              "                                                     [key], {});\n",
              "          if (!dataTable) return;\n",
              "\n",
              "          const docLinkHtml = 'Like what you see? Visit the ' +\n",
              "            '<a target=\"_blank\" href=https://colab.research.google.com/notebooks/data_table.ipynb>data table notebook</a>'\n",
              "            + ' to learn more about interactive tables.';\n",
              "          element.innerHTML = '';\n",
              "          dataTable['output_type'] = 'display_data';\n",
              "          await google.colab.output.renderOutput(dataTable, element);\n",
              "          const docLink = document.createElement('div');\n",
              "          docLink.innerHTML = docLinkHtml;\n",
              "          element.appendChild(docLink);\n",
              "        }\n",
              "      </script>\n",
              "    </div>\n",
              "  </div>\n",
              "  "
            ]
          },
          "metadata": {},
          "execution_count": 6
        }
      ]
    },
    {
      "cell_type": "markdown",
      "source": [
        "Take out Selling price as y and other column as X"
      ],
      "metadata": {
        "id": "kBuci9AnrZZC"
      }
    },
    {
      "cell_type": "code",
      "source": [
        "y = df.get(['Selling_Price'])\n",
        "X = df.drop(['Selling_Price'], axis=1)\n"
      ],
      "metadata": {
        "id": "Qa2YPiv4JZbO"
      },
      "execution_count": null,
      "outputs": []
    },
    {
      "cell_type": "code",
      "source": [
        "#Check the shape of X\n",
        "X.shape"
      ],
      "metadata": {
        "id": "dtSMrXpkJ0dG",
        "colab": {
          "base_uri": "https://localhost:8080/"
        },
        "outputId": "642049f7-0489-4a38-f2ab-174a053ec5bc"
      },
      "execution_count": null,
      "outputs": [
        {
          "output_type": "execute_result",
          "data": {
            "text/plain": [
              "(301, 3)"
            ]
          },
          "metadata": {},
          "execution_count": 8
        }
      ]
    },
    {
      "cell_type": "code",
      "source": [
        "#Check the shape of y\n",
        "y.shape"
      ],
      "metadata": {
        "id": "S32jGhRBJ15O",
        "colab": {
          "base_uri": "https://localhost:8080/"
        },
        "outputId": "fb44e9a3-c145-4854-e767-016019d82d78"
      },
      "execution_count": null,
      "outputs": [
        {
          "output_type": "execute_result",
          "data": {
            "text/plain": [
              "(301, 1)"
            ]
          },
          "metadata": {},
          "execution_count": 9
        }
      ]
    },
    {
      "cell_type": "code",
      "source": [
        "#print X and check\n",
        "print(X)"
      ],
      "metadata": {
        "id": "4i1ttby8MFJa",
        "colab": {
          "base_uri": "https://localhost:8080/"
        },
        "outputId": "41f1090e-cae1-47dd-fc94-07f1b37182ff"
      },
      "execution_count": null,
      "outputs": [
        {
          "output_type": "stream",
          "name": "stdout",
          "text": [
            "         Year  Present_Price  Kms_Driven\n",
            "0   -0.860155      -0.410123    0.612850\n",
            "1   -0.097043       0.647960   -1.874549\n",
            "2   -0.402870       0.457906    2.125322\n",
            "3   -0.480849      -0.079979    0.038635\n",
            "4   -2.223520       1.898574   -0.468699\n",
            "..        ...            ...         ...\n",
            "296  1.007247      -1.083003   -0.229690\n",
            "297  1.721243      -0.859128    0.378223\n",
            "298 -0.171465      -0.944369   -0.495819\n",
            "299 -0.605274       2.360360   -0.057051\n",
            "300  1.812287      -1.312873    0.155835\n",
            "\n",
            "[301 rows x 3 columns]\n"
          ]
        }
      ]
    },
    {
      "cell_type": "code",
      "source": [
        "# print y and check\n",
        "print(y)"
      ],
      "metadata": {
        "id": "wQgCopUYLdxV",
        "colab": {
          "base_uri": "https://localhost:8080/"
        },
        "outputId": "e32740af-47af-47b4-b1b1-c50ec6c1f194"
      },
      "execution_count": null,
      "outputs": [
        {
          "output_type": "stream",
          "name": "stdout",
          "text": [
            "     Selling_Price\n",
            "0       -94.188683\n",
            "1        15.276170\n",
            "2        69.755387\n",
            "3       -61.144535\n",
            "4       -40.620491\n",
            "..             ...\n",
            "296      20.693798\n",
            "297      87.938514\n",
            "298    -154.588890\n",
            "299     171.969714\n",
            "300      35.857232\n",
            "\n",
            "[301 rows x 1 columns]\n"
          ]
        }
      ]
    },
    {
      "cell_type": "code",
      "source": [
        "#Divide data into train and test using train_test_split\n",
        "from sklearn import datasets\n",
        "from sklearn.model_selection import train_test_split\n",
        "X_train, X_test, y_train, y_test = train_test_split(X, y, test_size=0.2, random_state=1234)"
      ],
      "metadata": {
        "id": "yX0zqXcHIQHP"
      },
      "execution_count": null,
      "outputs": []
    },
    {
      "cell_type": "code",
      "source": [
        "#find shape of X\n",
        "X.shape"
      ],
      "metadata": {
        "id": "7z5E17YkG-z2",
        "colab": {
          "base_uri": "https://localhost:8080/"
        },
        "outputId": "0c1699f0-0494-4ed3-be9c-e01cce0353ab"
      },
      "execution_count": null,
      "outputs": [
        {
          "output_type": "execute_result",
          "data": {
            "text/plain": [
              "(301, 3)"
            ]
          },
          "metadata": {},
          "execution_count": 13
        }
      ]
    },
    {
      "cell_type": "code",
      "source": [
        "#find shape of y\n",
        "y.shape"
      ],
      "metadata": {
        "id": "caTTKrcTHBEQ",
        "colab": {
          "base_uri": "https://localhost:8080/"
        },
        "outputId": "30808b5b-a5b2-4c10-dedc-9bbb92284c43"
      },
      "execution_count": null,
      "outputs": [
        {
          "output_type": "execute_result",
          "data": {
            "text/plain": [
              "(301, 1)"
            ]
          },
          "metadata": {},
          "execution_count": 14
        }
      ]
    },
    {
      "cell_type": "markdown",
      "source": [
        "### Visualizing the data  \n",
        "Use `matplotlib` to visualize the given data."
      ],
      "metadata": {
        "id": "Zj4rrRXGJBXy"
      }
    },
    {
      "cell_type": "code",
      "source": [
        "import matplotlib.pyplot as plt\n",
        "\n",
        "plt.scatter(X['Year'], y, s=2)\n",
        "plt.xlabel('Year')\n",
        "plt.ylabel('Selling Price')\n",
        "plt.show()"
      ],
      "metadata": {
        "id": "zxfi8dkBJOUi",
        "colab": {
          "base_uri": "https://localhost:8080/",
          "height": 449
        },
        "outputId": "0aa8118c-2924-4b2c-ea82-d76cdfa95049"
      },
      "execution_count": null,
      "outputs": [
        {
          "output_type": "display_data",
          "data": {
            "text/plain": [
              "<Figure size 640x480 with 1 Axes>"
            ],
            "image/png": "[encoded data removed]"
          },
          "metadata": {}
        }
      ]
    },
    {
      "cell_type": "code",
      "source": [
        "plt.scatter(X['Present_Price'], y, s=2)\n",
        "plt.xlabel('Present Price')\n",
        "plt.ylabel('Selling Price')\n",
        "plt.show()"
      ],
      "metadata": {
        "colab": {
          "base_uri": "https://localhost:8080/",
          "height": 449
        },
        "id": "MTiwJYHSQZ_h",
        "outputId": "96d31aee-f6fb-4a2c-881a-ec7711ff9077"
      },
      "execution_count": null,
      "outputs": [
        {
          "output_type": "display_data",
          "data": {
            "text/plain": [
              "<Figure size 640x480 with 1 Axes>"
            ],
            "image/png": "[encoded data removed]"
          },
          "metadata": {}
        }
      ]
    },
    {
      "cell_type": "code",
      "source": [
        "plt.scatter(X['Kms_Driven'], y, s=2)\n",
        "plt.xlabel('Kms Driven')\n",
        "plt.ylabel('Selling Price')\n",
        "plt.show()"
      ],
      "metadata": {
        "colab": {
          "base_uri": "https://localhost:8080/",
          "height": 449
        },
        "id": "y3a4hegIRx9P",
        "outputId": "03e52611-a8a0-4462-f421-6b74a2a0be22"
      },
      "execution_count": null,
      "outputs": [
        {
          "output_type": "display_data",
          "data": {
            "text/plain": [
              "<Figure size 640x480 with 1 Axes>"
            ],
            "image/png": "[encoded data removed]"
          },
          "metadata": {}
        }
      ]
    },
    {
      "cell_type": "markdown",
      "source": [
        "You should be able to see the linear relations between `y` and the features in vector `X`."
      ],
      "metadata": {
        "id": "r7vndSBAJceF"
      }
    },
    {
      "cell_type": "markdown",
      "source": [
        "### Gradient Descent Review  \n",
        "1. ####  Cost function\n",
        "Define the `cost function` to measure the difference between predictions and target outputs. Here, we are working with first degree polynomial, so derivatives are easy to calculate. ( Linear function `y = wx +b` )  \n",
        "\n",
        "$$Error = \\frac{1}{N}\\sum_{i=1}^N (y_i - \\overline{y}_i)^2 = \\frac{1}{N}\\sum_{i=1}^N (y_i - (x_iw+b))^2 $$  \n",
        "\n",
        "  where `N` is the number of samples  \n",
        "    \n",
        "\n",
        "\n",
        "2. #### Compute the derivative\n",
        "$$\\frac{\\delta Error}{\\delta w} = \\frac{2}{N}\\sum_{i=1}^N -x_i(y_i -(m  x_i +b ))  $$\n",
        "$$\\frac{\\delta Error}{\\delta b} = \\frac{2}{N}\\sum_{i=1}^N -(y_i -(m  x_i +b ))  $$\n",
        "3. <h4>Update current parameters</h4>\n",
        "$$ w:= w- learning\\_rate \\cdot \\frac{\\delta Error}{\\delta w}   $$\n",
        "$$ b:= b- learning\\_rate \\cdot \\frac{\\delta Error}{\\delta b}   $$\n",
        "4. <h4>Repeat until it fits good enough</h4>\n"
      ],
      "metadata": {
        "id": "b4I9Z3epNvBM"
      }
    },
    {
      "cell_type": "markdown",
      "source": [
        "### Model definition\n",
        "\n",
        "Complete the functions in the class below. Hints provided at appropriate places."
      ],
      "metadata": {
        "id": "kBtUcOVnJu-I"
      }
    },
    {
      "cell_type": "code",
      "source": [
        "import numpy as np\n",
        "\n",
        "class LinearRegression:\n",
        "\n",
        "    # The __init__ is called when we make any object of our class. Here, you are to specify the default values for\n",
        "    # Learning Rate, Number of Iterations, Weights and Biases. It doesn't return anything.\n",
        "    # Hint: Google what a `self pointer` is and figure out how it can be used here.\n",
        "    def __init__(self, learning_rate=0.001, n_iters=1000):\n",
        "        self.lr=learning_rate\n",
        "        self.n_iters=n_iters\n",
        "        self.weights = None\n",
        "        self.bias = None\n",
        "\n",
        "    # The following function would be the heart of the model. This is where the training would happen.\n",
        "    # You're supposed to iterate and keep on updating the weights and biases according to the steps of Gradient Descent.\n",
        "    def fit(self, X, y):\n",
        "\n",
        "        n_samples, n_features = X.shape\n",
        "\n",
        "        # init parameters\n",
        "        self.weights = np.zeros((n_features,1))\n",
        "        self.bias = 0\n",
        "\n",
        "        # gradient descent\n",
        "        for _ in range(self.n_iters):\n",
        "          predicted_y = np.dot(X, self.weights) + self.bias\n",
        "          grad_w = (2/n_samples) * np.dot(X.T, predicted_y - y)\n",
        "          grad_b = (2/n_samples) * np.dot(np.ones((1,n_samples)), predicted_y - y)\n",
        "\n",
        "          self.weights = self.weights - self.lr * grad_w\n",
        "          self.bias = self.bias - self.lr * grad_b\n",
        "\n",
        "\n",
        "\n",
        "    # This function will be called after our model has been trained and we are predicting on unseen data\n",
        "    # What is our prediction? Just return that\n",
        "    def predict(self, X):\n",
        "        y_approximated = np.dot(X,self.weights) + self.bias\n",
        "        return y_approximated"
      ],
      "metadata": {
        "id": "dGnFNPJx3I28"
      },
      "execution_count": null,
      "outputs": []
    },
    {
      "cell_type": "markdown",
      "source": [
        "### Initializing, Training & Predictions"
      ],
      "metadata": {
        "id": "EvyInkTKPn7W"
      }
    },
    {
      "cell_type": "code",
      "source": [
        "# Now, we make an object of our custom class.\n",
        "regressor = LinearRegression(learning_rate=0.01, n_iters=1000) # You may pass the custom parameters or let the default values take it ahead\n",
        "\n",
        "# Call the fit method on the object to train (pass appropriate part of dataset)\n",
        "regressor.fit(X_train, y_train)\n",
        "\n",
        "# Now, let's see our what our model predicts # pass appropriate part of dataset\n",
        "y_predict = regressor.predict(X_test)\n",
        "print(y_predict)\n",
        ""
      ],
      "metadata": {
        "id": "nvItUpAkHTiv",
        "colab": {
          "base_uri": "https://localhost:8080/"
        },
        "outputId": "bfcd888a-bf4c-4ef1-c582-db44d6cfa122"
      },
      "execution_count": null,
      "outputs": [
        {
          "output_type": "stream",
          "name": "stdout",
          "text": [
            "[[ 120.60749042]\n",
            " [  22.69644322]\n",
            " [ -13.9077917 ]\n",
            " [ -66.26060402]\n",
            " [ 156.74418555]\n",
            " [  25.20883266]\n",
            " [ 206.35481618]\n",
            " [-152.48370228]\n",
            " [ 153.21709283]\n",
            " [ -23.1321672 ]\n",
            " [ -48.93801631]\n",
            " [ -35.08659372]\n",
            " [ -66.64756495]\n",
            " [-192.01581087]\n",
            " [  64.72591534]\n",
            " [  56.90137599]\n",
            " [ -70.57951613]\n",
            " [ -91.73940129]\n",
            " [ 257.59598085]\n",
            " [ 226.23304308]\n",
            " [-142.30926756]\n",
            " [  58.14266256]\n",
            " [ -82.55202552]\n",
            " [-106.22639524]\n",
            " [-110.23084988]\n",
            " [ 116.88600327]\n",
            " [ -94.24979241]\n",
            " [  89.17877385]\n",
            " [ 255.72710195]\n",
            " [ -25.90514004]\n",
            " [-123.94970354]\n",
            " [  60.34659332]\n",
            " [ -58.48490185]\n",
            " [  49.97499315]\n",
            " [  -3.21390592]\n",
            " [ -49.48360503]\n",
            " [ 161.38898943]\n",
            " [   8.93938595]\n",
            " [ 184.71269759]\n",
            " [  -2.88622285]\n",
            " [ 124.40079771]\n",
            " [ -63.89606809]\n",
            " [ -30.36868408]\n",
            " [ -16.86385343]\n",
            " [ 281.58313471]\n",
            " [-105.38943311]\n",
            " [  33.23808547]\n",
            " [  97.92446377]\n",
            " [-102.73918375]\n",
            " [ 267.21796803]\n",
            " [ 159.42600661]\n",
            " [ -19.41493333]\n",
            " [  35.44587313]\n",
            " [  69.12029604]\n",
            " [  60.15804594]\n",
            " [  86.60226066]\n",
            " [ 146.5084226 ]\n",
            " [  11.2875162 ]\n",
            " [-159.19964681]\n",
            " [   1.59351534]\n",
            " [  76.39678943]]\n"
          ]
        }
      ]
    },
    {
      "cell_type": "markdown",
      "source": [
        "### Evaluate the model   \n",
        "\n",
        "Return [Mean Squared Error](https://en.wikipedia.org/wiki/Mean_squared_error) & [R2 Score](https://www.ncl.ac.uk/webtemplate/ask-assets/external/maths-resources/statistics/regression-and-correlation/coefficient-of-determination-r-squared.html#:~:text=%C2%AFy) from the functions below."
      ],
      "metadata": {
        "id": "tzK6cq8eRD4Q"
      }
    },
    {
      "cell_type": "code",
      "execution_count": null,
      "metadata": {
        "id": "J_QxgAEFhWMr",
        "colab": {
          "base_uri": "https://localhost:8080/"
        },
        "outputId": "f7140acd-6c3e-494c-837e-43a19b5f0ead"
      },
      "outputs": [
        {
          "output_type": "stream",
          "name": "stdout",
          "text": [
            "MSE: 318.21990541666565\n",
            "Accuracy: 0.9781243771694564\n"
          ]
        }
      ],
      "source": [
        "def mean_squared_error(y_true, y_pred):\n",
        "    err = y_true - y_pred\n",
        "    sum = 0\n",
        "    for i in err['Selling_Price']:\n",
        "      sum += i ** 2\n",
        "    mse = sum / len(err)\n",
        "    return mse\n",
        "\n",
        "\n",
        "\n",
        "def r2_score(y_true, y_pred):\n",
        "    err = y_true - y_pred\n",
        "    err = err['Selling_Price']\n",
        "    y_true = y_true['Selling_Price']\n",
        "    sum_residuals = 0\n",
        "    for i in err:\n",
        "      sum_residuals += i ** 2\n",
        "    sum = 0\n",
        "    for i in y_true:\n",
        "      sum += i\n",
        "    mean = sum / len(y_true)\n",
        "    sum_squares = 0\n",
        "    for i in y_true:\n",
        "      sum_squares += (i - mean)** 2\n",
        "    r2_score = 1 - (sum_residuals / sum_squares)\n",
        "    return r2_score\n",
        "\n",
        "\n",
        "\n",
        "\n",
        "\n",
        "mse =  mean_squared_error(y_test, y_predict)\n",
        "print(\"MSE:\", mse)\n",
        "\n",
        "accu = r2_score(y_test, y_predict)\n",
        "print(\"Accuracy:\", accu)"
      ]
    },
    {
      "cell_type": "code",
      "source": [
        "#Print first 10 values of prediction and y_test\n",
        "print(y_predict[:10])\n",
        "print(y_test.head(10))"
      ],
      "metadata": {
        "id": "mYHjSRSyP-KK",
        "colab": {
          "base_uri": "https://localhost:8080/"
        },
        "outputId": "23852360-6dc7-4a2c-d8e2-cba1067e5282"
      },
      "execution_count": null,
      "outputs": [
        {
          "output_type": "stream",
          "name": "stdout",
          "text": [
            "[[ 120.60749042]\n",
            " [  22.69644322]\n",
            " [ -13.9077917 ]\n",
            " [ -66.26060402]\n",
            " [ 156.74418555]\n",
            " [  25.20883266]\n",
            " [ 206.35481618]\n",
            " [-152.48370228]\n",
            " [ 153.21709283]\n",
            " [ -23.1321672 ]]\n",
            "     Selling_Price\n",
            "92      125.948842\n",
            "162      21.541047\n",
            "225       1.227178\n",
            "155     -86.154698\n",
            "108     154.153259\n",
            "134       6.359070\n",
            "40      219.995546\n",
            "208    -139.070368\n",
            "270     167.017709\n",
            "106     -60.251874\n"
          ]
        }
      ]
    },
    {
      "cell_type": "markdown",
      "source": [
        "[Please click on this link to access subjective questions](https://docs.google.com/document/d/1wgM6qO6w1QQbcC74Wt58wlScT8uUa9U5rLdDNT99FXE/edit?usp=sharing)"
      ],
      "metadata": {
        "id": "9eaalBEZg8j1"
      }
    }
  ]
}